{
  "nbformat": 4,
  "nbformat_minor": 0,
  "metadata": {
    "colab": {
      "provenance": [],
      "authorship_tag": "ABX9TyOn0yJtqH5nGGZd35Y9f/9V",
      "include_colab_link": true
    },
    "kernelspec": {
      "name": "python3",
      "display_name": "Python 3"
    },
    "language_info": {
      "name": "python"
    }
  },
  "cells": [
    {
      "cell_type": "markdown",
      "metadata": {
        "id": "view-in-github",
        "colab_type": "text"
      },
      "source": [
        "<a href=\"https://colab.research.google.com/github/Daivik12345/Video-to-Text-conversion-V-1.0/blob/main/V1.ipynb\" target=\"_parent\"><img src=\"https://colab.research.google.com/assets/colab-badge.svg\" alt=\"Open In Colab\"/></a>"
      ]
    },
    {
      "cell_type": "code",
      "source": [
        "!pip install pytube3 moviepy SpeechRecognition\n",
        "!pip install moviepy\n"
      ],
      "metadata": {
        "colab": {
          "base_uri": "https://localhost:8080/"
        },
        "id": "iZdoHgCqoOpl",
        "outputId": "add142a1-df7b-4acc-be4b-ce5d6d43fd3e"
      },
      "execution_count": null,
      "outputs": [
        {
          "output_type": "stream",
          "name": "stdout",
          "text": [
            "Requirement already satisfied: pytube3 in /usr/local/lib/python3.10/dist-packages (9.6.4)\n",
            "Requirement already satisfied: moviepy in /usr/local/lib/python3.10/dist-packages (1.0.3)\n",
            "Requirement already satisfied: SpeechRecognition in /usr/local/lib/python3.10/dist-packages (3.10.4)\n",
            "Requirement already satisfied: typing-extensions in /usr/local/lib/python3.10/dist-packages (from pytube3) (4.12.2)\n",
            "Requirement already satisfied: decorator<5.0,>=4.0.2 in /usr/local/lib/python3.10/dist-packages (from moviepy) (4.4.2)\n",
            "Requirement already satisfied: tqdm<5.0,>=4.11.2 in /usr/local/lib/python3.10/dist-packages (from moviepy) (4.66.4)\n",
            "Requirement already satisfied: requests<3.0,>=2.8.1 in /usr/local/lib/python3.10/dist-packages (from moviepy) (2.31.0)\n",
            "Requirement already satisfied: proglog<=1.0.0 in /usr/local/lib/python3.10/dist-packages (from moviepy) (0.1.10)\n",
            "Requirement already satisfied: numpy>=1.17.3 in /usr/local/lib/python3.10/dist-packages (from moviepy) (1.25.2)\n",
            "Requirement already satisfied: imageio<3.0,>=2.5 in /usr/local/lib/python3.10/dist-packages (from moviepy) (2.31.6)\n",
            "Requirement already satisfied: imageio-ffmpeg>=0.2.0 in /usr/local/lib/python3.10/dist-packages (from moviepy) (0.5.1)\n",
            "Requirement already satisfied: pillow<10.1.0,>=8.3.2 in /usr/local/lib/python3.10/dist-packages (from imageio<3.0,>=2.5->moviepy) (9.4.0)\n",
            "Requirement already satisfied: setuptools in /usr/local/lib/python3.10/dist-packages (from imageio-ffmpeg>=0.2.0->moviepy) (67.7.2)\n",
            "Requirement already satisfied: charset-normalizer<4,>=2 in /usr/local/lib/python3.10/dist-packages (from requests<3.0,>=2.8.1->moviepy) (3.3.2)\n",
            "Requirement already satisfied: idna<4,>=2.5 in /usr/local/lib/python3.10/dist-packages (from requests<3.0,>=2.8.1->moviepy) (3.7)\n",
            "Requirement already satisfied: urllib3<3,>=1.21.1 in /usr/local/lib/python3.10/dist-packages (from requests<3.0,>=2.8.1->moviepy) (2.0.7)\n",
            "Requirement already satisfied: certifi>=2017.4.17 in /usr/local/lib/python3.10/dist-packages (from requests<3.0,>=2.8.1->moviepy) (2024.6.2)\n",
            "Requirement already satisfied: moviepy in /usr/local/lib/python3.10/dist-packages (1.0.3)\n",
            "Requirement already satisfied: decorator<5.0,>=4.0.2 in /usr/local/lib/python3.10/dist-packages (from moviepy) (4.4.2)\n",
            "Requirement already satisfied: tqdm<5.0,>=4.11.2 in /usr/local/lib/python3.10/dist-packages (from moviepy) (4.66.4)\n",
            "Requirement already satisfied: requests<3.0,>=2.8.1 in /usr/local/lib/python3.10/dist-packages (from moviepy) (2.31.0)\n",
            "Requirement already satisfied: proglog<=1.0.0 in /usr/local/lib/python3.10/dist-packages (from moviepy) (0.1.10)\n",
            "Requirement already satisfied: numpy>=1.17.3 in /usr/local/lib/python3.10/dist-packages (from moviepy) (1.25.2)\n",
            "Requirement already satisfied: imageio<3.0,>=2.5 in /usr/local/lib/python3.10/dist-packages (from moviepy) (2.31.6)\n",
            "Requirement already satisfied: imageio-ffmpeg>=0.2.0 in /usr/local/lib/python3.10/dist-packages (from moviepy) (0.5.1)\n",
            "Requirement already satisfied: pillow<10.1.0,>=8.3.2 in /usr/local/lib/python3.10/dist-packages (from imageio<3.0,>=2.5->moviepy) (9.4.0)\n",
            "Requirement already satisfied: setuptools in /usr/local/lib/python3.10/dist-packages (from imageio-ffmpeg>=0.2.0->moviepy) (67.7.2)\n",
            "Requirement already satisfied: charset-normalizer<4,>=2 in /usr/local/lib/python3.10/dist-packages (from requests<3.0,>=2.8.1->moviepy) (3.3.2)\n",
            "Requirement already satisfied: idna<4,>=2.5 in /usr/local/lib/python3.10/dist-packages (from requests<3.0,>=2.8.1->moviepy) (3.7)\n",
            "Requirement already satisfied: urllib3<3,>=1.21.1 in /usr/local/lib/python3.10/dist-packages (from requests<3.0,>=2.8.1->moviepy) (2.0.7)\n",
            "Requirement already satisfied: certifi>=2017.4.17 in /usr/local/lib/python3.10/dist-packages (from requests<3.0,>=2.8.1->moviepy) (2024.6.2)\n"
          ]
        }
      ]
    },
    {
      "cell_type": "code",
      "source": [
        "\n",
        "import moviepy.editor as mp\n",
        "\n",
        "\n",
        "clip = mp.VideoFileClip(r\"/content/test-1.mp4\")\n",
        "\n",
        "\n",
        "clip.audio.write_audiofile(r\"/content/test-2.wav\")\n"
      ],
      "metadata": {
        "colab": {
          "base_uri": "https://localhost:8080/"
        },
        "id": "g2sZiW1Qr_1E",
        "outputId": "2cc9f98d-a84c-4c4f-f5ef-b625b24c8415"
      },
      "execution_count": null,
      "outputs": [
        {
          "output_type": "stream",
          "name": "stdout",
          "text": [
            "MoviePy - Writing audio in /content/test-2.wav\n"
          ]
        },
        {
          "output_type": "stream",
          "name": "stderr",
          "text": [
            "                                                                        "
          ]
        },
        {
          "output_type": "stream",
          "name": "stdout",
          "text": [
            "MoviePy - Done.\n"
          ]
        },
        {
          "output_type": "stream",
          "name": "stderr",
          "text": [
            "\r"
          ]
        }
      ]
    },
    {
      "cell_type": "code",
      "source": [
        "!pip install SpeechRecognition pydub"
      ],
      "metadata": {
        "colab": {
          "base_uri": "https://localhost:8080/"
        },
        "id": "XPiV1bcBsnzk",
        "outputId": "49fc3713-8dc1-4ef2-f128-5301b402b774"
      },
      "execution_count": null,
      "outputs": [
        {
          "output_type": "stream",
          "name": "stdout",
          "text": [
            "Requirement already satisfied: SpeechRecognition in /usr/local/lib/python3.10/dist-packages (3.10.4)\n",
            "Collecting pydub\n",
            "  Downloading pydub-0.25.1-py2.py3-none-any.whl (32 kB)\n",
            "Requirement already satisfied: requests>=2.26.0 in /usr/local/lib/python3.10/dist-packages (from SpeechRecognition) (2.31.0)\n",
            "Requirement already satisfied: typing-extensions in /usr/local/lib/python3.10/dist-packages (from SpeechRecognition) (4.12.2)\n",
            "Requirement already satisfied: charset-normalizer<4,>=2 in /usr/local/lib/python3.10/dist-packages (from requests>=2.26.0->SpeechRecognition) (3.3.2)\n",
            "Requirement already satisfied: idna<4,>=2.5 in /usr/local/lib/python3.10/dist-packages (from requests>=2.26.0->SpeechRecognition) (3.7)\n",
            "Requirement already satisfied: urllib3<3,>=1.21.1 in /usr/local/lib/python3.10/dist-packages (from requests>=2.26.0->SpeechRecognition) (2.0.7)\n",
            "Requirement already satisfied: certifi>=2017.4.17 in /usr/local/lib/python3.10/dist-packages (from requests>=2.26.0->SpeechRecognition) (2024.6.2)\n",
            "Installing collected packages: pydub\n",
            "Successfully installed pydub-0.25.1\n"
          ]
        }
      ]
    },
    {
      "cell_type": "code",
      "source": [
        "import speech_recognition as sr\n",
        "import os\n",
        "import subprocess\n",
        "from google.colab import files\n",
        "from pydub import AudioSegment\n",
        "from pydub.silence import split_on_silence\n"
      ],
      "metadata": {
        "id": "5-xndg0osn1z"
      },
      "execution_count": null,
      "outputs": []
    },
    {
      "cell_type": "code",
      "source": [
        "# initialize the recognizer\n",
        "r = sr.Recognizer()\n",
        "\n",
        "# a function that splits the audio file into chunks\n",
        "# and applies speech recognition\n",
        "\n",
        "def get_large_audio_transcription(path):\n",
        "    \"\"\"\n",
        "    Splitting the large audio file into chunks\n",
        "    and apply speech recognition on each of these chunks\n",
        "    \"\"\"\n",
        "    # open the audio file using pydub\n",
        "    sound = AudioSegment.from_wav(path)\n",
        "    # split audio sound where silence is 700 miliseconds or more and get chunks\n",
        "    chunks = split_on_silence(sound,\n",
        "        # experiment with this value for your target audio file\n",
        "        min_silence_len = 500,\n",
        "        # adjust this per requirement\n",
        "        silence_thresh = sound.dBFS-14,\n",
        "        # keep the silence for 1 second, adjustable as well\n",
        "        keep_silence=500,\n",
        "    )\n",
        "    folder_name = \"audio-chunks\"\n",
        "    # create a directory to store the audio chunks\n",
        "    if not os.path.isdir(folder_name):\n",
        "        os.mkdir(folder_name)\n",
        "    whole_text = \"\"\n",
        "    # process each chunk\n",
        "    for i, audio_chunk in enumerate(chunks, start=1):\n",
        "        # export audio chunk and save it in\n",
        "        # the `folder_name` directory.\n",
        "        chunk_filename = os.path.join(folder_name, f\"chunk{i}.wav\")\n",
        "        audio_chunk.export(chunk_filename, format=\"wav\")\n",
        "        # recognize the chunk\n",
        "        with sr.AudioFile(chunk_filename) as source:\n",
        "            audio_listened = r.record(source)\n",
        "            # try converting it to text\n",
        "            try:\n",
        "                text = r.recognize_google(audio_listened)\n",
        "            except sr.UnknownValueError as e:\n",
        "                print(\"Error:\", str(e))\n",
        "            else:\n",
        "                text = f\"{text.capitalize()}. \"\n",
        "                print(chunk_filename, \":\", text)\n",
        "                whole_text += text\n",
        "    # return the text for all chunks detected\n",
        "    return whole_text\n",
        "\n",
        "\n",
        "path = \"/content/test-2.wav\"\n",
        "print(\"\\nFull text:\", get_large_audio_transcription(path))"
      ],
      "metadata": {
        "colab": {
          "base_uri": "https://localhost:8080/"
        },
        "id": "N1CSv11Ys0oU",
        "outputId": "01ed1c1c-16b8-4b44-a0ed-e4351ae5323d"
      },
      "execution_count": null,
      "outputs": [
        {
          "output_type": "stream",
          "name": "stdout",
          "text": [
            "audio-chunks/chunk1.wav : Hey youtube my name is rob i'm a data scientist and i make videos about machine learning and how to get started in data science. \n",
            "audio-chunks/chunk2.wav : If you've worked in data science before or you're getting into data science you probably already heard about the website kag. \n",
            "audio-chunks/chunk3.wav : Chicago's online community of data scientists is a place where you can go to find code examples. \n",
            "audio-chunks/chunk4.wav : Also hosts data sets and there are a bunch of forms where you can talk about different machine learning topics. \n",
            "audio-chunks/chunk5.wav : Put kagel started out and still is a competitive platform where people compete in competitions to predict things. \n",
            "audio-chunks/chunk6.wav : And i know that. \n",
            "audio-chunks/chunk7.wav : For someone new to kaggle it can seem very overwhelming to get involved in your first competition. \n",
            "audio-chunks/chunk8.wav : But i think it's a great way to learn. \n",
            "audio-chunks/chunk9.wav : So in this video i'm just going to take you through some basic ideas of tips that i would give. \n",
            "audio-chunks/chunk10.wav : To someone looking for their first kaggle competition and hopefully by the end of it you'll feel comfortable enough to jump into one yourself. \n",
            "audio-chunks/chunk11.wav : All right let's get started so of course the very first thing you're going to need to do to join a kaggle competition is make an account and if you don't already have an account and you go to chicago website it'll look something like this. \n",
            "audio-chunks/chunk12.wav : And all you have to do is click on register. \n",
            "audio-chunks/chunk13.wav : Make account link it with your email or your google account. \n",
            "audio-chunks/chunk14.wav : And then you'll be in. \n",
            "audio-chunks/chunk15.wav : Let's assume you have a kaggle account you'll have a homepage sort of like this. \n",
            "audio-chunks/chunk16.wav : And if you look here on the left side there's a bunch of different things you can choose. \n",
            "audio-chunks/chunk17.wav : From competition data sets. \n",
            "audio-chunks/chunk18.wav : Code discussions and courses we're going to look at competitions since that's what this video is about. \n",
            "audio-chunks/chunk19.wav : And there are a lot of things here so if you're not already signed up for a competition they won't necessarily show up as active but we're going to click on all competitions anyway to see just everything that's out there. \n",
            "audio-chunks/chunk20.wav : Now a few tips. \n",
            "audio-chunks/chunk21.wav : For picking the competition you want to be involved in. \n",
            "audio-chunks/chunk22.wav : Few things i would keep in mind first. \n",
            "audio-chunks/chunk23.wav : You don't want to join a competition that's ending soon or has already ended. \n",
            "audio-chunks/chunk24.wav : The real benefit of joining a cargo competition. \n",
            "audio-chunks/chunk25.wav : Is a fact that you get to work in a community. \n",
            "audio-chunks/chunk26.wav : Ask questions. \n",
            "audio-chunks/chunk27.wav : Look at notebooks as they come out when people make them public. \n",
            "audio-chunks/chunk28.wav : And you really don't get that sort of benefit if you join a competition that's already completed. \n",
            "audio-chunks/chunk29.wav : So after we click all competitions we're going to actually filter by recently launched or we could. \n",
            "audio-chunks/chunk30.wav : Go buy closing soon but let's go by recently launched. \n",
            "audio-chunks/chunk31.wav : In under each competition here. \n",
            "audio-chunks/chunk32.wav : Let's close this left side. \n",
            "audio-chunks/chunk33.wav : You can see that there is a type of competition. \n",
            "audio-chunks/chunk34.wav : Number teams that are involved in it and how long their is to go so. \n",
            "audio-chunks/chunk35.wav : Right now there are a few competitions with days to go months to go. \n",
            "audio-chunks/chunk36.wav : But we would wouldn't really want to join one that's just ending in a few days because. \n",
            "audio-chunks/chunk37.wav : Usually calculate competitions are a month to 3 or 4 months long and you want to really get the whole benefit by joining early. \n",
            "audio-chunks/chunk38.wav : So let's pick as an example of this 3 months ago one know another thing i want to mention before we get too far is there are also things called. \n",
            "audio-chunks/chunk39.wav : Community competitions that just were launched this year. \n",
            "audio-chunks/chunk40.wav : And with community competitions. \n",
            "audio-chunks/chunk41.wav : They're not necessarily going to show up on this page. \n",
            "audio-chunks/chunk42.wav : But i'll show you one is. \n",
            "audio-chunks/chunk43.wav : As an example these are just put on by anyone who wants to launch one and i've actually launched my own cargo competition the pug youtube video series we're trying to predict. \n",
            "audio-chunks/chunk44.wav : Video likes on youtube videos given some data there. \n",
            "audio-chunks/chunk45.wav : And you can find the link in the description to this video. \n",
            "audio-chunks/chunk46.wav : But what we're going to go through here is one of the examples of an active competition so let's go back to this market prediction competition and i'll take you through some of the steps i would take. \n",
            "audio-chunks/chunk47.wav : Almost like a checklist of items i would want to go through before i join the competition. \n",
            "audio-chunks/chunk48.wav : Now one thing you definitely will want to do is read everything on this overview table. \n",
            "audio-chunks/chunk49.wav : The overview tab usually has a description here that talks a little bit about the competition where the data is comes from what you're trying to predict and how it would be a benefit to have a predictive model that can predict. \n",
            "audio-chunks/chunk50.wav : Whatever the target is. \n",
            "audio-chunks/chunk51.wav : So you definitely want to read the full description get a good idea of what's going on first. \n",
            "audio-chunks/chunk52.wav : At that point you might decide this competition isn't for me maybe i want to work with images or i want to work with text. \n",
            "audio-chunks/chunk53.wav : Oh i want to predict stuff like the stock market. \n",
            "audio-chunks/chunk54.wav : Then you. \n",
            "audio-chunks/chunk55.wav : Choose to move on to a different competition. \n",
            "audio-chunks/chunk56.wav : But if it looks like something that you're interested in. \n",
            "audio-chunks/chunk57.wav : Then you're going to keep on going through the overview and i can't stress enough. \n",
            "audio-chunks/chunk58.wav : Reading and rereading the evaluation page is very important. \n",
            "audio-chunks/chunk59.wav : So every competition you're trying to optimize your predictive model to some sort of target. \n",
            "Error: \n",
            "audio-chunks/chunk61.wav : The way that you're being judged on that is. \n",
            "audio-chunks/chunk62.wav : Shown in the evaluation table. \n",
            "audio-chunks/chunk63.wav : If you're not optimizing your model for this evaluation metric then you're doing the wrong thing. \n",
            "audio-chunks/chunk64.wav : So this competition is using the mean of the pearson correlation coefficient. \n",
            "Error: \n",
            "audio-chunks/chunk66.wav : Pretty standard but you might have a competition that has a more. \n",
            "Error: \n",
            "audio-chunks/chunk68.wav : Complicated way of calculating their evaluation and you want to make sure you understand that. \n",
            "audio-chunks/chunk69.wav : Fully before you move forward and try to create your model. \n",
            "audio-chunks/chunk70.wav : Another thing to keep in mind is there's a timeline for every competition. \n",
            "audio-chunks/chunk71.wav : So usually. \n",
            "audio-chunks/chunk72.wav : In most competitions it will launch. \n",
            "audio-chunks/chunk73.wav : There'll be a period where anyone can join. \n",
            "audio-chunks/chunk74.wav : And they can submit predictions. \n",
            "audio-chunks/chunk75.wav : And then usually about a week before the competition is set to end. \n",
            "audio-chunks/chunk76.wav : That they close things off so you can't join teams with anyone else anymore. \n",
            "audio-chunks/chunk77.wav : And in the final week that actually. \n",
            "audio-chunks/chunk78.wav : Try to make it so you don't publish any public information about any notebooks on the website. \n",
            "audio-chunks/chunk79.wav : About that competition and you kind of hunker down for that last week. \n",
            "audio-chunks/chunk80.wav : On the bottom here. \n",
            "audio-chunks/chunk81.wav : Oh and then at that when the competition ends for many competitions right then the release. \n",
            "audio-chunks/chunk82.wav : The final scores and the rankings. \n",
            "audio-chunks/chunk83.wav : A few days after that. \n",
            "Error: \n",
            "audio-chunks/chunk85.wav : Check to make sure remove anyone who has been identified as cheating and remove them from the website. \n",
            "audio-chunks/chunk86.wav : From the leaderboard. \n",
            "audio-chunks/chunk87.wav : And it'll be finalized. \n",
            "audio-chunks/chunk88.wav : But you'll see down here on this competition there's a little timeline tells you how long ago the competition started. \n",
            "audio-chunks/chunk89.wav : How long we have until this. \n",
            "audio-chunks/chunk90.wav : Rules acceptance and. \n",
            "audio-chunks/chunk91.wav : Team merging deadline and then the close of the competition now this one's a little bit unique because they're actually. \n",
            "audio-chunks/chunk92.wav : Using the predictive models on future data so even after this this competition ends they'll be. \n",
            "audio-chunks/chunk93.wav : An additional time window where they're going to be scoring all the models on future data so this is this is interesting. \n",
            "audio-chunks/chunk94.wav : Not always. \n",
            "audio-chunks/chunk95.wav : Typically competitions go this way. \n",
            "audio-chunks/chunk96.wav : Then the prize page which is nice to know what the prizes are but that shouldn't be your main goal if you're starting a competition for your first time. \n",
            "audio-chunks/chunk97.wav : And then understanding that there are different types of. \n",
            "audio-chunks/chunk98.wav : Cargo competitions for predicting. \n",
            "audio-chunks/chunk99.wav : The most common ones nowadays are code competition. \n",
            "audio-chunks/chunk100.wav : And what that means is in a code competition you actually have to submit. \n",
            "audio-chunks/chunk101.wav : Your predictive model in a notebook. \n",
            "audio-chunks/chunk102.wav : And that notebook will run on the test set that is hidden from your model. \n",
            "audio-chunks/chunk103.wav : And you don't actually get a csv or at the data files for the test set that you create predictions for but your code will create the predictions for it when it runs. \n",
            "audio-chunks/chunk104.wav : In submission. \n",
            "audio-chunks/chunk105.wav : Another type of competition you'll see is where they actually provide you. \n",
            "audio-chunks/chunk106.wav : All the feature data for the test. \n",
            "audio-chunks/chunk107.wav : Can you create your predictions as just a flat file that you can upload or push to the website. \n",
            "audio-chunks/chunk108.wav : Put code competitions are much more common these days for new. \n",
            "audio-chunks/chunk109.wav : New one set of. \n",
            "audio-chunks/chunk110.wav : Looks like they also have some contact information. \n",
            "audio-chunks/chunk111.wav : All right so once you understand everything on this page you can move over to looking at the data. \n",
            "audio-chunks/chunk112.wav : Wake up competitions run is there's. \n",
            "audio-chunks/chunk113.wav : Always a public. \n",
            "audio-chunks/chunk114.wav : Training set for most competitions there's a training data. \n",
            "audio-chunks/chunk115.wav : And what this contains is a bunch of. \n",
            "audio-chunks/chunk116.wav : Features about your data this could be. \n",
            "audio-chunks/chunk117.wav : Images it could be csv file it could be. \n",
            "audio-chunks/chunk118.wav : Audio files. \n",
            "Error: \n",
            "audio-chunks/chunk120.wav : They're giving you the training data and they'll also provide you the target value that your model wants to predict so let's say it's a bunch of images and they're asking you to predict. \n",
            "audio-chunks/chunk121.wav : What the images. \n",
            "audio-chunks/chunk122.wav : Is off the training data set will have. \n",
            "audio-chunks/chunk123.wav : Both the feature data. \n",
            "audio-chunks/chunk124.wav : And the targets provided. \n",
            "audio-chunks/chunk125.wav : The test data. \n",
            "audio-chunks/chunk126.wav : You don't know the target for so your model it needs to predict for that. \n",
            "audio-chunks/chunk127.wav : In this data description table they will go over all the files provided the in this one there's a train csv file that they provide. \n",
            "audio-chunks/chunk128.wav : With some unique identifiers like the row id. \n",
            "audio-chunks/chunk129.wav : The investment id and then these are a bunch of anonymized features that will be provided in the data set. \n",
            "audio-chunks/chunk130.wav : You can also see that. \n",
            "audio-chunks/chunk131.wav : They'll go into some detail about how the data was collected. \n",
            "audio-chunks/chunk132.wav : Understanding this very thoroughly is going to be important for you to perform well. \n",
            "audio-chunks/chunk133.wav : In the competition. \n",
            "audio-chunks/chunk134.wav : You can also go down scroll down here to the very bottom of the page and actually see. \n",
            "audio-chunks/chunk135.wav : The data set by clicking on the csv files. \n",
            "audio-chunks/chunk136.wav : This can be kind of helpful if you just want to see quickly what the distribution of certain features are. \n",
            "audio-chunks/chunk137.wav : Before you join it you can also see the size of the data set itself this one is about 18 and 1/2 gigabytes. \n",
            "audio-chunks/chunk138.wav : Okay so i'd actually suggest. \n",
            "audio-chunks/chunk139.wav : Skipping the code table at first and next checking out the discussion. \n",
            "audio-chunks/chunk140.wav : Section. \n"
          ]
        }
      ]
    }
  ]
}